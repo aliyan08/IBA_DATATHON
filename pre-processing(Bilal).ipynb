{
 "cells": [
  {
   "cell_type": "code",
   "execution_count": 6,
   "metadata": {},
   "outputs": [],
   "source": [
    "#import libraries\n",
    "import numpy as np\n",
    "import pandas as pd"
   ]
  },
  {
   "cell_type": "code",
   "execution_count": 7,
   "metadata": {},
   "outputs": [],
   "source": [
    "#load data\n",
    "df_main =pd.read_csv(\"train_data.csv\")"
   ]
  },
  {
   "cell_type": "code",
   "execution_count": 8,
   "metadata": {},
   "outputs": [
    {
     "data": {
      "text/html": [
       "<div>\n",
       "<style scoped>\n",
       "    .dataframe tbody tr th:only-of-type {\n",
       "        vertical-align: middle;\n",
       "    }\n",
       "\n",
       "    .dataframe tbody tr th {\n",
       "        vertical-align: top;\n",
       "    }\n",
       "\n",
       "    .dataframe thead th {\n",
       "        text-align: right;\n",
       "    }\n",
       "</style>\n",
       "<table border=\"1\" class=\"dataframe\">\n",
       "  <thead>\n",
       "    <tr style=\"text-align: right;\">\n",
       "      <th></th>\n",
       "      <th>Investor_ID</th>\n",
       "      <th>Age</th>\n",
       "      <th>Annual_Income</th>\n",
       "      <th>Investment_Amount</th>\n",
       "      <th>Risk_Tolerance_Score</th>\n",
       "      <th>Months_of_Investing_Experience</th>\n",
       "      <th>Number_of_Active_Investments</th>\n",
       "      <th>Potential_Return_Rate</th>\n",
       "      <th>Investment_Duration</th>\n",
       "      <th>Investment_to_Income_Ratio</th>\n",
       "      <th>Education</th>\n",
       "      <th>Employment_Status</th>\n",
       "      <th>Marital_Status</th>\n",
       "      <th>Owns_Property</th>\n",
       "      <th>Has_Dependents</th>\n",
       "      <th>Investment_Sector</th>\n",
       "      <th>Has_Investment_Advisor</th>\n",
       "      <th>Investment_Failed</th>\n",
       "    </tr>\n",
       "  </thead>\n",
       "  <tbody>\n",
       "    <tr>\n",
       "      <th>0</th>\n",
       "      <td>0003HW9UAA</td>\n",
       "      <td>51.0</td>\n",
       "      <td>NaN</td>\n",
       "      <td>87300.0</td>\n",
       "      <td>358</td>\n",
       "      <td>13</td>\n",
       "      <td>3.0</td>\n",
       "      <td>18.10</td>\n",
       "      <td>12</td>\n",
       "      <td>0.85</td>\n",
       "      <td>Bachelor's</td>\n",
       "      <td>Part-time</td>\n",
       "      <td>NaN</td>\n",
       "      <td>No</td>\n",
       "      <td>NO</td>\n",
       "      <td>Other</td>\n",
       "      <td>True</td>\n",
       "      <td>0</td>\n",
       "    </tr>\n",
       "    <tr>\n",
       "      <th>1</th>\n",
       "      <td>000ELHLBPV</td>\n",
       "      <td>37.0</td>\n",
       "      <td>81658.0</td>\n",
       "      <td>152598.0</td>\n",
       "      <td>792</td>\n",
       "      <td>23</td>\n",
       "      <td>4.0</td>\n",
       "      <td>14.06</td>\n",
       "      <td>24</td>\n",
       "      <td>0.86</td>\n",
       "      <td>PhD</td>\n",
       "      <td>Self-employed</td>\n",
       "      <td>NaN</td>\n",
       "      <td>Yes</td>\n",
       "      <td>No</td>\n",
       "      <td>Auto</td>\n",
       "      <td>False</td>\n",
       "      <td>1</td>\n",
       "    </tr>\n",
       "    <tr>\n",
       "      <th>2</th>\n",
       "      <td>000G6CHJON</td>\n",
       "      <td>NaN</td>\n",
       "      <td>NaN</td>\n",
       "      <td>77767.0</td>\n",
       "      <td>359</td>\n",
       "      <td>57</td>\n",
       "      <td>4.0</td>\n",
       "      <td>4.31</td>\n",
       "      <td>60</td>\n",
       "      <td>0.60</td>\n",
       "      <td>Master's</td>\n",
       "      <td>Unemployed</td>\n",
       "      <td>Married</td>\n",
       "      <td>No</td>\n",
       "      <td>No</td>\n",
       "      <td>Education</td>\n",
       "      <td>True</td>\n",
       "      <td>0</td>\n",
       "    </tr>\n",
       "    <tr>\n",
       "      <th>3</th>\n",
       "      <td>000K09D0JB</td>\n",
       "      <td>54.0</td>\n",
       "      <td>42344.0</td>\n",
       "      <td>13261.0</td>\n",
       "      <td>366</td>\n",
       "      <td>115</td>\n",
       "      <td>1.0</td>\n",
       "      <td>NaN</td>\n",
       "      <td>60</td>\n",
       "      <td>0.21</td>\n",
       "      <td>PhD</td>\n",
       "      <td>Part-time</td>\n",
       "      <td>Divorced</td>\n",
       "      <td>No</td>\n",
       "      <td>No</td>\n",
       "      <td>Education</td>\n",
       "      <td>True</td>\n",
       "      <td>0</td>\n",
       "    </tr>\n",
       "    <tr>\n",
       "      <th>4</th>\n",
       "      <td>000NTH4YTU</td>\n",
       "      <td>63.0</td>\n",
       "      <td>48898.0</td>\n",
       "      <td>193990.0</td>\n",
       "      <td>792</td>\n",
       "      <td>53</td>\n",
       "      <td>4.0</td>\n",
       "      <td>5.65</td>\n",
       "      <td>48</td>\n",
       "      <td>0.82</td>\n",
       "      <td>Master's</td>\n",
       "      <td>Self-employed</td>\n",
       "      <td>Married</td>\n",
       "      <td>Yes</td>\n",
       "      <td>No</td>\n",
       "      <td>Business</td>\n",
       "      <td>True</td>\n",
       "      <td>0</td>\n",
       "    </tr>\n",
       "  </tbody>\n",
       "</table>\n",
       "</div>"
      ],
      "text/plain": [
       "  Investor_ID   Age  Annual_Income  Investment_Amount  Risk_Tolerance_Score  \\\n",
       "0  0003HW9UAA  51.0            NaN            87300.0                   358   \n",
       "1  000ELHLBPV  37.0        81658.0           152598.0                   792   \n",
       "2  000G6CHJON   NaN            NaN            77767.0                   359   \n",
       "3  000K09D0JB  54.0        42344.0            13261.0                   366   \n",
       "4  000NTH4YTU  63.0        48898.0           193990.0                   792   \n",
       "\n",
       "   Months_of_Investing_Experience  Number_of_Active_Investments  \\\n",
       "0                              13                           3.0   \n",
       "1                              23                           4.0   \n",
       "2                              57                           4.0   \n",
       "3                             115                           1.0   \n",
       "4                              53                           4.0   \n",
       "\n",
       "   Potential_Return_Rate  Investment_Duration  Investment_to_Income_Ratio  \\\n",
       "0                  18.10                   12                        0.85   \n",
       "1                  14.06                   24                        0.86   \n",
       "2                   4.31                   60                        0.60   \n",
       "3                    NaN                   60                        0.21   \n",
       "4                   5.65                   48                        0.82   \n",
       "\n",
       "    Education Employment_Status Marital_Status Owns_Property Has_Dependents  \\\n",
       "0  Bachelor's         Part-time            NaN            No             NO   \n",
       "1         PhD     Self-employed            NaN           Yes             No   \n",
       "2    Master's        Unemployed        Married            No             No   \n",
       "3         PhD         Part-time       Divorced            No             No   \n",
       "4    Master's     Self-employed        Married           Yes             No   \n",
       "\n",
       "  Investment_Sector Has_Investment_Advisor  Investment_Failed  \n",
       "0             Other                   True                  0  \n",
       "1              Auto                  False                  1  \n",
       "2         Education                   True                  0  \n",
       "3         Education                   True                  0  \n",
       "4          Business                   True                  0  "
      ]
     },
     "execution_count": 8,
     "metadata": {},
     "output_type": "execute_result"
    }
   ],
   "source": [
    "df_main.head()"
   ]
  },
  {
   "cell_type": "code",
   "execution_count": 9,
   "metadata": {},
   "outputs": [
    {
     "data": {
      "text/plain": [
       "(225347, 18)"
      ]
     },
     "execution_count": 9,
     "metadata": {},
     "output_type": "execute_result"
    }
   ],
   "source": [
    "df_main.shape"
   ]
  },
  {
   "cell_type": "code",
   "execution_count": 10,
   "metadata": {},
   "outputs": [
    {
     "data": {
      "text/plain": [
       "Investor_ID                           0\n",
       "Age                               32840\n",
       "Annual_Income                     22626\n",
       "Investment_Amount                 18033\n",
       "Risk_Tolerance_Score                  0\n",
       "Months_of_Investing_Experience        0\n",
       "Number_of_Active_Investments       4512\n",
       "Potential_Return_Rate             11244\n",
       "Investment_Duration                   0\n",
       "Investment_to_Income_Ratio            0\n",
       "Education                             0\n",
       "Employment_Status                     0\n",
       "Marital_Status                    42906\n",
       "Owns_Property                         0\n",
       "Has_Dependents                        0\n",
       "Investment_Sector                     0\n",
       "Has_Investment_Advisor             3849\n",
       "Investment_Failed                     0\n",
       "dtype: int64"
      ]
     },
     "execution_count": 10,
     "metadata": {},
     "output_type": "execute_result"
    }
   ],
   "source": [
    "df_main.isnull().sum()"
   ]
  },
  {
   "cell_type": "code",
   "execution_count": 11,
   "metadata": {},
   "outputs": [
    {
     "data": {
      "text/html": [
       "<div>\n",
       "<style scoped>\n",
       "    .dataframe tbody tr th:only-of-type {\n",
       "        vertical-align: middle;\n",
       "    }\n",
       "\n",
       "    .dataframe tbody tr th {\n",
       "        vertical-align: top;\n",
       "    }\n",
       "\n",
       "    .dataframe thead th {\n",
       "        text-align: right;\n",
       "    }\n",
       "</style>\n",
       "<table border=\"1\" class=\"dataframe\">\n",
       "  <thead>\n",
       "    <tr style=\"text-align: right;\">\n",
       "      <th></th>\n",
       "      <th>Age</th>\n",
       "      <th>Annual_Income</th>\n",
       "      <th>Investment_Amount</th>\n",
       "      <th>Risk_Tolerance_Score</th>\n",
       "      <th>Months_of_Investing_Experience</th>\n",
       "      <th>Number_of_Active_Investments</th>\n",
       "      <th>Potential_Return_Rate</th>\n",
       "      <th>Investment_Duration</th>\n",
       "      <th>Investment_to_Income_Ratio</th>\n",
       "      <th>Investment_Failed</th>\n",
       "    </tr>\n",
       "  </thead>\n",
       "  <tbody>\n",
       "    <tr>\n",
       "      <th>count</th>\n",
       "      <td>192507.000000</td>\n",
       "      <td>202721.000000</td>\n",
       "      <td>207314.000000</td>\n",
       "      <td>225347.000000</td>\n",
       "      <td>225347.000000</td>\n",
       "      <td>220835.000000</td>\n",
       "      <td>214103.000000</td>\n",
       "      <td>225347.000000</td>\n",
       "      <td>225347.000000</td>\n",
       "      <td>225347.000000</td>\n",
       "    </tr>\n",
       "    <tr>\n",
       "      <th>mean</th>\n",
       "      <td>46.026004</td>\n",
       "      <td>82793.709196</td>\n",
       "      <td>126997.235204</td>\n",
       "      <td>598.569708</td>\n",
       "      <td>59.832942</td>\n",
       "      <td>2.498413</td>\n",
       "      <td>13.417184</td>\n",
       "      <td>36.028756</td>\n",
       "      <td>0.499736</td>\n",
       "      <td>0.087212</td>\n",
       "    </tr>\n",
       "    <tr>\n",
       "      <th>std</th>\n",
       "      <td>19.066572</td>\n",
       "      <td>38856.728908</td>\n",
       "      <td>70766.875540</td>\n",
       "      <td>186.348988</td>\n",
       "      <td>34.617474</td>\n",
       "      <td>1.116728</td>\n",
       "      <td>6.628983</td>\n",
       "      <td>16.968128</td>\n",
       "      <td>0.230821</td>\n",
       "      <td>0.282146</td>\n",
       "    </tr>\n",
       "    <tr>\n",
       "      <th>min</th>\n",
       "      <td>18.000000</td>\n",
       "      <td>15000.000000</td>\n",
       "      <td>5000.000000</td>\n",
       "      <td>300.000000</td>\n",
       "      <td>0.000000</td>\n",
       "      <td>1.000000</td>\n",
       "      <td>2.000000</td>\n",
       "      <td>12.000000</td>\n",
       "      <td>0.100000</td>\n",
       "      <td>0.000000</td>\n",
       "    </tr>\n",
       "    <tr>\n",
       "      <th>25%</th>\n",
       "      <td>31.000000</td>\n",
       "      <td>49293.000000</td>\n",
       "      <td>65589.250000</td>\n",
       "      <td>445.000000</td>\n",
       "      <td>30.000000</td>\n",
       "      <td>2.000000</td>\n",
       "      <td>7.700000</td>\n",
       "      <td>24.000000</td>\n",
       "      <td>0.300000</td>\n",
       "      <td>0.000000</td>\n",
       "    </tr>\n",
       "    <tr>\n",
       "      <th>50%</th>\n",
       "      <td>45.000000</td>\n",
       "      <td>82908.000000</td>\n",
       "      <td>126790.500000</td>\n",
       "      <td>589.000000</td>\n",
       "      <td>60.000000</td>\n",
       "      <td>2.000000</td>\n",
       "      <td>13.350000</td>\n",
       "      <td>36.000000</td>\n",
       "      <td>0.500000</td>\n",
       "      <td>0.000000</td>\n",
       "    </tr>\n",
       "    <tr>\n",
       "      <th>75%</th>\n",
       "      <td>58.000000</td>\n",
       "      <td>116369.000000</td>\n",
       "      <td>188104.500000</td>\n",
       "      <td>735.000000</td>\n",
       "      <td>90.000000</td>\n",
       "      <td>3.000000</td>\n",
       "      <td>19.160000</td>\n",
       "      <td>48.000000</td>\n",
       "      <td>0.700000</td>\n",
       "      <td>0.000000</td>\n",
       "    </tr>\n",
       "    <tr>\n",
       "      <th>max</th>\n",
       "      <td>119.000000</td>\n",
       "      <td>149999.000000</td>\n",
       "      <td>249999.000000</td>\n",
       "      <td>1099.000000</td>\n",
       "      <td>119.000000</td>\n",
       "      <td>4.000000</td>\n",
       "      <td>25.000000</td>\n",
       "      <td>60.000000</td>\n",
       "      <td>0.900000</td>\n",
       "      <td>1.000000</td>\n",
       "    </tr>\n",
       "  </tbody>\n",
       "</table>\n",
       "</div>"
      ],
      "text/plain": [
       "                 Age  Annual_Income  Investment_Amount  Risk_Tolerance_Score  \\\n",
       "count  192507.000000  202721.000000      207314.000000         225347.000000   \n",
       "mean       46.026004   82793.709196      126997.235204            598.569708   \n",
       "std        19.066572   38856.728908       70766.875540            186.348988   \n",
       "min        18.000000   15000.000000        5000.000000            300.000000   \n",
       "25%        31.000000   49293.000000       65589.250000            445.000000   \n",
       "50%        45.000000   82908.000000      126790.500000            589.000000   \n",
       "75%        58.000000  116369.000000      188104.500000            735.000000   \n",
       "max       119.000000  149999.000000      249999.000000           1099.000000   \n",
       "\n",
       "       Months_of_Investing_Experience  Number_of_Active_Investments  \\\n",
       "count                   225347.000000                 220835.000000   \n",
       "mean                        59.832942                      2.498413   \n",
       "std                         34.617474                      1.116728   \n",
       "min                          0.000000                      1.000000   \n",
       "25%                         30.000000                      2.000000   \n",
       "50%                         60.000000                      2.000000   \n",
       "75%                         90.000000                      3.000000   \n",
       "max                        119.000000                      4.000000   \n",
       "\n",
       "       Potential_Return_Rate  Investment_Duration  Investment_to_Income_Ratio  \\\n",
       "count          214103.000000        225347.000000               225347.000000   \n",
       "mean               13.417184            36.028756                    0.499736   \n",
       "std                 6.628983            16.968128                    0.230821   \n",
       "min                 2.000000            12.000000                    0.100000   \n",
       "25%                 7.700000            24.000000                    0.300000   \n",
       "50%                13.350000            36.000000                    0.500000   \n",
       "75%                19.160000            48.000000                    0.700000   \n",
       "max                25.000000            60.000000                    0.900000   \n",
       "\n",
       "       Investment_Failed  \n",
       "count      225347.000000  \n",
       "mean            0.087212  \n",
       "std             0.282146  \n",
       "min             0.000000  \n",
       "25%             0.000000  \n",
       "50%             0.000000  \n",
       "75%             0.000000  \n",
       "max             1.000000  "
      ]
     },
     "execution_count": 11,
     "metadata": {},
     "output_type": "execute_result"
    }
   ],
   "source": [
    "#summary for data\n",
    "df_main.describe()"
   ]
  },
  {
   "cell_type": "code",
   "execution_count": 12,
   "metadata": {},
   "outputs": [],
   "source": [
    "#label encoder for education column\n",
    "from sklearn.preprocessing import LabelEncoder\n",
    "labelencoder = LabelEncoder()\n",
    "df_main['Education'] = labelencoder.fit_transform(df_main['Education'])\n"
   ]
  },
  {
   "cell_type": "code",
   "execution_count": 13,
   "metadata": {},
   "outputs": [
    {
     "data": {
      "text/plain": [
       "Education\n",
       "0    56748\n",
       "3    56258\n",
       "2    56224\n",
       "1    56117\n",
       "Name: count, dtype: int64"
      ]
     },
     "execution_count": 13,
     "metadata": {},
     "output_type": "execute_result"
    }
   ],
   "source": [
    "#read column Education\n",
    "df_main['Education'].value_counts()"
   ]
  },
  {
   "cell_type": "code",
   "execution_count": 14,
   "metadata": {},
   "outputs": [
    {
     "data": {
      "text/html": [
       "<div>\n",
       "<style scoped>\n",
       "    .dataframe tbody tr th:only-of-type {\n",
       "        vertical-align: middle;\n",
       "    }\n",
       "\n",
       "    .dataframe tbody tr th {\n",
       "        vertical-align: top;\n",
       "    }\n",
       "\n",
       "    .dataframe thead th {\n",
       "        text-align: right;\n",
       "    }\n",
       "</style>\n",
       "<table border=\"1\" class=\"dataframe\">\n",
       "  <thead>\n",
       "    <tr style=\"text-align: right;\">\n",
       "      <th></th>\n",
       "      <th>Investor_ID</th>\n",
       "      <th>Age</th>\n",
       "      <th>Annual_Income</th>\n",
       "      <th>Investment_Amount</th>\n",
       "      <th>Risk_Tolerance_Score</th>\n",
       "      <th>Months_of_Investing_Experience</th>\n",
       "      <th>Number_of_Active_Investments</th>\n",
       "      <th>Potential_Return_Rate</th>\n",
       "      <th>Investment_Duration</th>\n",
       "      <th>Investment_to_Income_Ratio</th>\n",
       "      <th>Education</th>\n",
       "      <th>Employment_Status</th>\n",
       "      <th>Marital_Status</th>\n",
       "      <th>Owns_Property</th>\n",
       "      <th>Has_Dependents</th>\n",
       "      <th>Investment_Sector</th>\n",
       "      <th>Has_Investment_Advisor</th>\n",
       "      <th>Investment_Failed</th>\n",
       "    </tr>\n",
       "  </thead>\n",
       "  <tbody>\n",
       "    <tr>\n",
       "      <th>0</th>\n",
       "      <td>0003HW9UAA</td>\n",
       "      <td>51.0</td>\n",
       "      <td>NaN</td>\n",
       "      <td>87300.0</td>\n",
       "      <td>358</td>\n",
       "      <td>13</td>\n",
       "      <td>3.0</td>\n",
       "      <td>18.10</td>\n",
       "      <td>12</td>\n",
       "      <td>0.85</td>\n",
       "      <td>0</td>\n",
       "      <td>Part-time</td>\n",
       "      <td>NaN</td>\n",
       "      <td>No</td>\n",
       "      <td>NO</td>\n",
       "      <td>Other</td>\n",
       "      <td>True</td>\n",
       "      <td>0</td>\n",
       "    </tr>\n",
       "    <tr>\n",
       "      <th>1</th>\n",
       "      <td>000ELHLBPV</td>\n",
       "      <td>37.0</td>\n",
       "      <td>81658.0</td>\n",
       "      <td>152598.0</td>\n",
       "      <td>792</td>\n",
       "      <td>23</td>\n",
       "      <td>4.0</td>\n",
       "      <td>14.06</td>\n",
       "      <td>24</td>\n",
       "      <td>0.86</td>\n",
       "      <td>3</td>\n",
       "      <td>Self-employed</td>\n",
       "      <td>NaN</td>\n",
       "      <td>Yes</td>\n",
       "      <td>No</td>\n",
       "      <td>Auto</td>\n",
       "      <td>False</td>\n",
       "      <td>1</td>\n",
       "    </tr>\n",
       "    <tr>\n",
       "      <th>2</th>\n",
       "      <td>000G6CHJON</td>\n",
       "      <td>NaN</td>\n",
       "      <td>NaN</td>\n",
       "      <td>77767.0</td>\n",
       "      <td>359</td>\n",
       "      <td>57</td>\n",
       "      <td>4.0</td>\n",
       "      <td>4.31</td>\n",
       "      <td>60</td>\n",
       "      <td>0.60</td>\n",
       "      <td>2</td>\n",
       "      <td>Unemployed</td>\n",
       "      <td>Married</td>\n",
       "      <td>No</td>\n",
       "      <td>No</td>\n",
       "      <td>Education</td>\n",
       "      <td>True</td>\n",
       "      <td>0</td>\n",
       "    </tr>\n",
       "    <tr>\n",
       "      <th>3</th>\n",
       "      <td>000K09D0JB</td>\n",
       "      <td>54.0</td>\n",
       "      <td>42344.0</td>\n",
       "      <td>13261.0</td>\n",
       "      <td>366</td>\n",
       "      <td>115</td>\n",
       "      <td>1.0</td>\n",
       "      <td>NaN</td>\n",
       "      <td>60</td>\n",
       "      <td>0.21</td>\n",
       "      <td>3</td>\n",
       "      <td>Part-time</td>\n",
       "      <td>Divorced</td>\n",
       "      <td>No</td>\n",
       "      <td>No</td>\n",
       "      <td>Education</td>\n",
       "      <td>True</td>\n",
       "      <td>0</td>\n",
       "    </tr>\n",
       "    <tr>\n",
       "      <th>4</th>\n",
       "      <td>000NTH4YTU</td>\n",
       "      <td>63.0</td>\n",
       "      <td>48898.0</td>\n",
       "      <td>193990.0</td>\n",
       "      <td>792</td>\n",
       "      <td>53</td>\n",
       "      <td>4.0</td>\n",
       "      <td>5.65</td>\n",
       "      <td>48</td>\n",
       "      <td>0.82</td>\n",
       "      <td>2</td>\n",
       "      <td>Self-employed</td>\n",
       "      <td>Married</td>\n",
       "      <td>Yes</td>\n",
       "      <td>No</td>\n",
       "      <td>Business</td>\n",
       "      <td>True</td>\n",
       "      <td>0</td>\n",
       "    </tr>\n",
       "  </tbody>\n",
       "</table>\n",
       "</div>"
      ],
      "text/plain": [
       "  Investor_ID   Age  Annual_Income  Investment_Amount  Risk_Tolerance_Score  \\\n",
       "0  0003HW9UAA  51.0            NaN            87300.0                   358   \n",
       "1  000ELHLBPV  37.0        81658.0           152598.0                   792   \n",
       "2  000G6CHJON   NaN            NaN            77767.0                   359   \n",
       "3  000K09D0JB  54.0        42344.0            13261.0                   366   \n",
       "4  000NTH4YTU  63.0        48898.0           193990.0                   792   \n",
       "\n",
       "   Months_of_Investing_Experience  Number_of_Active_Investments  \\\n",
       "0                              13                           3.0   \n",
       "1                              23                           4.0   \n",
       "2                              57                           4.0   \n",
       "3                             115                           1.0   \n",
       "4                              53                           4.0   \n",
       "\n",
       "   Potential_Return_Rate  Investment_Duration  Investment_to_Income_Ratio  \\\n",
       "0                  18.10                   12                        0.85   \n",
       "1                  14.06                   24                        0.86   \n",
       "2                   4.31                   60                        0.60   \n",
       "3                    NaN                   60                        0.21   \n",
       "4                   5.65                   48                        0.82   \n",
       "\n",
       "   Education Employment_Status Marital_Status Owns_Property Has_Dependents  \\\n",
       "0          0         Part-time            NaN            No             NO   \n",
       "1          3     Self-employed            NaN           Yes             No   \n",
       "2          2        Unemployed        Married            No             No   \n",
       "3          3         Part-time       Divorced            No             No   \n",
       "4          2     Self-employed        Married           Yes             No   \n",
       "\n",
       "  Investment_Sector Has_Investment_Advisor  Investment_Failed  \n",
       "0             Other                   True                  0  \n",
       "1              Auto                  False                  1  \n",
       "2         Education                   True                  0  \n",
       "3         Education                   True                  0  \n",
       "4          Business                   True                  0  "
      ]
     },
     "execution_count": 14,
     "metadata": {},
     "output_type": "execute_result"
    }
   ],
   "source": [
    "df_main.head()"
   ]
  },
  {
   "cell_type": "code",
   "execution_count": 15,
   "metadata": {},
   "outputs": [
    {
     "data": {
      "text/plain": [
       "Marital_Status\n",
       "Divorced    39174\n",
       "Married     38979\n",
       "Single      38886\n",
       "Sgl         21918\n",
       "Marr        21834\n",
       "Div         21650\n",
       "Name: count, dtype: int64"
      ]
     },
     "execution_count": 15,
     "metadata": {},
     "output_type": "execute_result"
    }
   ],
   "source": [
    "#read marital status column\n",
    "df_main['Marital_Status'].value_counts()"
   ]
  },
  {
   "cell_type": "code",
   "execution_count": 18,
   "metadata": {},
   "outputs": [],
   "source": [
    "#replace sgl with single, Marr with married, Div with Divorced\n",
    "df_main['Marital_Status'] = df_main['Marital_Status'].replace('Sgl', 'Single')\n",
    "df_main['Marital_Status'] = df_main['Marital_Status'].replace('Marr', 'Married')\n",
    "df_main['Marital_Status'] = df_main['Marital_Status'].replace('Div', 'Divorced')"
   ]
  },
  {
   "cell_type": "code",
   "execution_count": 20,
   "metadata": {},
   "outputs": [
    {
     "data": {
      "text/plain": [
       "Marital_Status\n",
       "Divorced    60824\n",
       "Married     60813\n",
       "Single      60804\n",
       "Name: count, dtype: int64"
      ]
     },
     "execution_count": 20,
     "metadata": {},
     "output_type": "execute_result"
    }
   ],
   "source": [
    "df_main['Marital_Status'].value_counts()"
   ]
  },
  {
   "cell_type": "code",
   "execution_count": 44,
   "metadata": {},
   "outputs": [
    {
     "data": {
      "text/plain": [
       "0"
      ]
     },
     "execution_count": 44,
     "metadata": {},
     "output_type": "execute_result"
    }
   ],
   "source": [
    "df_main['Marital_Status'].isnull().sum()"
   ]
  },
  {
   "cell_type": "code",
   "execution_count": 40,
   "metadata": {},
   "outputs": [],
   "source": [
    "import pandas as pd\n",
    "from sklearn.impute import KNNImputer\n",
    "\n",
    "# Initialize KNN imputer with k neighbors\n",
    "knn_imputer = KNNImputer(n_neighbors=5)  # Adjust 'n_neighbors' as needed\n",
    "\n",
    "# Perform KNN imputation on 'Marital_Status' column\n",
    "df_main['Marital_Status'] = knn_imputer.fit_transform(df_main[['Marital_Status']])\n",
    "\n"
   ]
  },
  {
   "cell_type": "code",
   "execution_count": 27,
   "metadata": {},
   "outputs": [],
   "source": [
    "# Convert 'Marital_Status' column to integer type\n",
    "df_main['Marital_Status'] = df_main['Marital_Status'].astype(int)\n",
    "\n",
    "# Label encode the 'Marital_Status' column\n",
    "labelencoder = LabelEncoder()\n",
    "df_main['Marital_Status'] = labelencoder.fit_transform(df_main['Marital_Status'])"
   ]
  },
  {
   "cell_type": "code",
   "execution_count": 33,
   "metadata": {},
   "outputs": [],
   "source": [
    "# Apply KNNImputer\n",
    "imputer = KNNImputer(n_neighbors=3)\n",
    "df_main['Marital_Status'] = imputer.fit_transform(df_main[['Marital_Status']])\n",
    "df_main['Marital_Status'] = df_main['Marital_Status'].round()\n",
    "\n",
    "\n"
   ]
  },
  {
   "cell_type": "code",
   "execution_count": 41,
   "metadata": {},
   "outputs": [
    {
     "data": {
      "text/plain": [
       "0"
      ]
     },
     "execution_count": 41,
     "metadata": {},
     "output_type": "execute_result"
    }
   ],
   "source": [
    "\n",
    "df_main['Marital_Status'].isnull().sum()"
   ]
  },
  {
   "cell_type": "code",
   "execution_count": 42,
   "metadata": {},
   "outputs": [
    {
     "data": {
      "text/plain": [
       "Marital_Status\n",
       "0.0    60824\n",
       "1.0    60813\n",
       "2.0    60804\n",
       "3.0    42906\n",
       "Name: count, dtype: int64"
      ]
     },
     "execution_count": 42,
     "metadata": {},
     "output_type": "execute_result"
    }
   ],
   "source": [
    "df_main['Marital_Status'].value_counts()"
   ]
  },
  {
   "cell_type": "code",
   "execution_count": 43,
   "metadata": {},
   "outputs": [
    {
     "data": {
      "text/plain": [
       "array([3., 1., 0., 2.])"
      ]
     },
     "execution_count": 43,
     "metadata": {},
     "output_type": "execute_result"
    }
   ],
   "source": [
    "#unique values in marital status column\n",
    "df_main['Marital_Status'].unique()"
   ]
  },
  {
   "cell_type": "code",
   "execution_count": null,
   "metadata": {},
   "outputs": [],
   "source": []
  }
 ],
 "metadata": {
  "kernelspec": {
   "display_name": "Python 3",
   "language": "python",
   "name": "python3"
  },
  "language_info": {
   "codemirror_mode": {
    "name": "ipython",
    "version": 3
   },
   "file_extension": ".py",
   "mimetype": "text/x-python",
   "name": "python",
   "nbconvert_exporter": "python",
   "pygments_lexer": "ipython3",
   "version": "3.11.9"
  }
 },
 "nbformat": 4,
 "nbformat_minor": 2
}
